{
  "nbformat": 4,
  "nbformat_minor": 0,
  "metadata": {
    "colab": {
      "provenance": []
    },
    "kernelspec": {
      "name": "python3",
      "display_name": "Python 3"
    },
    "language_info": {
      "name": "python"
    }
  },
  "cells": [
    {
      "cell_type": "code",
      "source": [
        "!pip install langchain chromadb langchain-community huggingface-hub sentence-transformers langchain-groq -q\n"
      ],
      "metadata": {
        "id": "x0cvm5Ua0m2l"
      },
      "execution_count": 4,
      "outputs": []
    },
    {
      "cell_type": "code",
      "source": [
        "!pip install faiss-cpu"
      ],
      "metadata": {
        "colab": {
          "base_uri": "https://localhost:8080/"
        },
        "id": "1D1bCsCduc1P",
        "outputId": "df71fd7e-6d3e-4ee0-b486-f980693f28f6"
      },
      "execution_count": 2,
      "outputs": [
        {
          "output_type": "stream",
          "name": "stdout",
          "text": [
            "Collecting faiss-cpu\n",
            "  Downloading faiss_cpu-1.11.0-cp311-cp311-manylinux_2_28_x86_64.whl.metadata (4.8 kB)\n",
            "Requirement already satisfied: numpy<3.0,>=1.25.0 in /usr/local/lib/python3.11/dist-packages (from faiss-cpu) (2.0.2)\n",
            "Requirement already satisfied: packaging in /usr/local/lib/python3.11/dist-packages (from faiss-cpu) (24.2)\n",
            "Downloading faiss_cpu-1.11.0-cp311-cp311-manylinux_2_28_x86_64.whl (31.3 MB)\n",
            "\u001b[2K   \u001b[90m━━━━━━━━━━━━━━━━━━━━━━━━━━━━━━━━━━━━━━━━\u001b[0m \u001b[32m31.3/31.3 MB\u001b[0m \u001b[31m32.3 MB/s\u001b[0m eta \u001b[36m0:00:00\u001b[0m\n",
            "\u001b[?25hInstalling collected packages: faiss-cpu\n",
            "Successfully installed faiss-cpu-1.11.0\n"
          ]
        }
      ]
    },
    {
      "cell_type": "code",
      "source": [
        "from langchain.chains.combine_documents import create_stuff_documents_chain\n",
        "from langchain_core.prompts import PromptTemplate\n",
        "\n",
        "from langchain_core.prompts import ChatPromptTemplate\n",
        "from langchain.chains import create_retrieval_chain\n",
        "\n",
        "from langchain_community.document_loaders import WebBaseLoader\n",
        "from langchain.text_splitter import RecursiveCharacterTextSplitter\n",
        "from langchain.vectorstores import Chroma\n",
        "from langchain.embeddings import HuggingFaceEmbeddings  # or OpenAIEmbeddings if you prefer\n",
        "from langchain.chains.qa_with_sources import load_qa_with_sources_chain\n",
        "from langchain_groq import ChatGroq\n",
        "import os\n",
        "import re"
      ],
      "metadata": {
        "colab": {
          "base_uri": "https://localhost:8080/"
        },
        "id": "n35CSWZz6kwD",
        "outputId": "892f1c25-dbc7-4cfa-a57c-17f4466e88cf"
      },
      "execution_count": 3,
      "outputs": [
        {
          "output_type": "stream",
          "name": "stderr",
          "text": [
            "WARNING:langchain_community.utils.user_agent:USER_AGENT environment variable not set, consider setting it to identify your requests.\n"
          ]
        }
      ]
    },
    {
      "cell_type": "code",
      "source": [
        "from langchain.chains.combine_documents import create_stuff_documents_chain\n",
        "from langchain.chains import create_retrieval_chain"
      ],
      "metadata": {
        "id": "Zev7FhJQ62Wn"
      },
      "execution_count": 39,
      "outputs": []
    },
    {
      "cell_type": "code",
      "source": [
        "GROQ_API_KEY='Your-API-Key'"
      ],
      "metadata": {
        "id": "gJcO7NJTwBRI"
      },
      "execution_count": 26,
      "outputs": []
    },
    {
      "cell_type": "code",
      "source": [
        "def extract_entity_from_question(question: str) -> str:\n",
        "    match = re.search(r\"(?:in|on|about|of|for|into)\\s+([A-Za-z]+)\", question, re.IGNORECASE)\n",
        "    return match.group(1).capitalize() if match else question.strip()"
      ],
      "metadata": {
        "id": "WXYF0owS2kTg"
      },
      "execution_count": 27,
      "outputs": []
    },
    {
      "cell_type": "code",
      "source": [
        "def load_documents_for_entity(entity: str):\n",
        "    urls = [\n",
        "        f\"https://www.screener.in/company/{entity.upper()}/\",\n",
        "        f\"https://finance.yahoo.com/quote/{entity.upper()}/\",\n",
        "        f\"https://www.moneycontrol.com/financials/{entity.lower()}/\",\n",
        "    ]\n",
        "    loader = WebBaseLoader(urls)\n",
        "    docs = loader.load()\n",
        "    return docs"
      ],
      "metadata": {
        "id": "U1HJV5Cz2rtL"
      },
      "execution_count": 28,
      "outputs": []
    },
    {
      "cell_type": "code",
      "source": [
        "def create_vectorstore(documents):\n",
        "    splitter = RecursiveCharacterTextSplitter(chunk_size=1000, chunk_overlap=200)\n",
        "    chunks = splitter.split_documents(documents)\n",
        "\n",
        "    # Use local or OpenAI embedding\n",
        "    embeddings = HuggingFaceEmbeddings(model_name=\"sentence-transformers/all-MiniLM-L6-v2\")\n",
        "    vectorstore = Chroma.from_documents(chunks, embedding=embeddings, persist_directory=\"./chroma_db\")\n",
        "    vectorstore.persist()\n",
        "\n",
        "    return vectorstore"
      ],
      "metadata": {
        "id": "XrmK7o3t2vIF"
      },
      "execution_count": 40,
      "outputs": []
    },
    {
      "cell_type": "code",
      "source": [
        "def create_investment_chain(retriever):\n",
        "    llm = ChatGroq(\n",
        "        temperature=0.2,\n",
        "        model_name=\"llama3-8b-8192\",\n",
        "        groq_api_key=GROQ_API_KEY\n",
        "    )\n",
        "\n",
        "    prompt = PromptTemplate.from_template(\n",
        "        \"\"\"You are a top-tier financial analyst. Based on the following information from financial websites, answer the user's question.\n",
        "\n",
        "        Context:\n",
        "        --------\n",
        "        {context}\n",
        "\n",
        "        Question:\n",
        "        ---------\n",
        "        {input}\n",
        "\n",
        "        Your Answer (with reasoning and suggestion):\"\"\"\n",
        "    )\n",
        "\n",
        "    document_chain = create_stuff_documents_chain(llm, prompt)\n",
        "    rag_chain = create_retrieval_chain(retriever, document_chain)\n",
        "\n",
        "    return rag_chain"
      ],
      "metadata": {
        "id": "WbOwgH8T2ykW"
      },
      "execution_count": 41,
      "outputs": []
    },
    {
      "cell_type": "code",
      "source": [
        "def analyze_investment_question(question: str):\n",
        "    entity = extract_entity_from_question(question)\n",
        "    print(f\"[INFO] Extracted Entity: {entity}\")\n",
        "\n",
        "    docs = load_documents_for_entity(entity)\n",
        "    vectorstore = create_vectorstore(docs)\n",
        "    retriever = vectorstore.as_retriever(search_kwargs={\"k\": 5})\n",
        "\n",
        "    chain = create_investment_chain(retriever)\n",
        "    result = chain.invoke({\"input\": question})\n",
        "\n",
        "    return result[\"answer\"]"
      ],
      "metadata": {
        "id": "sWdmvKnj22SR"
      },
      "execution_count": 42,
      "outputs": []
    },
    {
      "cell_type": "code",
      "source": [
        "question = \"Should I currently invest in HDFC Bank?\"\n",
        "answer = analyze_investment_question(question)\n",
        "print(answer)"
      ],
      "metadata": {
        "colab": {
          "base_uri": "https://localhost:8080/"
        },
        "id": "iknLSDVY3HWM",
        "outputId": "418a1f2b-f26d-4a99-c143-89acc03d67af"
      },
      "execution_count": 44,
      "outputs": [
        {
          "output_type": "stream",
          "name": "stdout",
          "text": [
            "[INFO] Extracted Entity: Hdfc\n",
            "Based on the provided information, I would not recommend investing in HDFC Bank at this time. Here's a breakdown of the reasons:\n",
            "\n",
            "1. **Stock Price**: HDFC Bank's current price is ₹2,724, which is trading at 3.73 times its book value. This is relatively high, indicating that the stock may be overvalued.\n",
            "2. **Sales Growth**: The company has delivered a poor sales growth of 8.14% over the past five years, which is a concern.\n",
            "3. **Return on Equity (ROE)**: HDFC Bank's ROE is 12.8%, which is relatively low compared to its peers.\n",
            "4. **Interest Coverage Ratio**: The company has a low interest coverage ratio, which indicates that it may struggle to meet its interest payments.\n",
            "5. **Dividend Yield**: The dividend yield is 0.00%, which is extremely low and may not provide a sufficient return for investors.\n",
            "\n",
            "While HDFC Bank has some positive aspects, such as its pioneer status in housing finance and a healthy dividend payout, the concerns mentioned above outweigh the benefits. I would suggest waiting for a more favorable market condition or for the company to address these concerns before investing.\n",
            "\n",
            "It's essential to conduct thorough research and analysis before making any investment decisions. I recommend considering other financial metrics, such as the company's financial statements, industry trends, and market conditions, to make a more informed decision.\n"
          ]
        }
      ]
    },
    {
      "cell_type": "code",
      "source": [],
      "metadata": {
        "id": "qUzbgnYWxK5m"
      },
      "execution_count": null,
      "outputs": []
    }
  ]
}